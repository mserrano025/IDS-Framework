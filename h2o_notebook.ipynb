{
 "cells": [
  {
   "cell_type": "markdown",
   "metadata": {},
   "source": [
    "Initial Imports"
   ]
  },
  {
   "cell_type": "code",
   "execution_count": 19,
   "metadata": {},
   "outputs": [],
   "source": [
    "import h2o\n",
    "from h2o.automl import H2OAutoML\n",
    "import pandas as pd\n",
    "from sklearn.metrics import accuracy_score, confusion_matrix, f1_score, precision_score, recall_score\n",
    "from h2o.estimators import H2ODeepLearningEstimator\n",
    "from h2o.estimators.random_forest import H2ORandomForestEstimator"
   ]
  },
  {
   "cell_type": "markdown",
   "metadata": {},
   "source": [
    "# Server Start"
   ]
  },
  {
   "cell_type": "code",
   "execution_count": 2,
   "metadata": {},
   "outputs": [
    {
     "name": "stdout",
     "output_type": "stream",
     "text": [
      "Checking whether there is an H2O instance running at http://localhost:54321."
     ]
    },
    {
     "name": "stdout",
     "output_type": "stream",
     "text": [
      ".... not found.\n",
      "Attempting to start a local H2O server...\n",
      "  Java Version: openjdk version \"11.0.24\" 2024-07-16; OpenJDK Runtime Environment (build 11.0.24+8-post-Ubuntu-1ubuntu322.04); OpenJDK 64-Bit Server VM (build 11.0.24+8-post-Ubuntu-1ubuntu322.04, mixed mode, sharing)\n",
      "  Starting server from /home/markel/.local/lib/python3.10/site-packages/h2o/backend/bin/h2o.jar\n",
      "  Ice root: /tmp/tmp0l6a1qrt\n",
      "  JVM stdout: /tmp/tmp0l6a1qrt/h2o_markel_started_from_python.out\n",
      "  JVM stderr: /tmp/tmp0l6a1qrt/h2o_markel_started_from_python.err\n",
      "  Server is running at http://127.0.0.1:54321\n",
      "Connecting to H2O server at http://127.0.0.1:54321 ... successful.\n",
      "Warning: Your H2O cluster version is (4 months and 29 days) old.  There may be a newer version available.\n",
      "Please download and install the latest version from: https://h2o-release.s3.amazonaws.com/h2o/latest_stable.html\n"
     ]
    },
    {
     "data": {
      "text/html": [
       "\n",
       "<style>\n",
       "\n",
       "#h2o-table-1.h2o-container {\n",
       "  overflow-x: auto;\n",
       "}\n",
       "#h2o-table-1 .h2o-table {\n",
       "  /* width: 100%; */\n",
       "  margin-top: 1em;\n",
       "  margin-bottom: 1em;\n",
       "}\n",
       "#h2o-table-1 .h2o-table caption {\n",
       "  white-space: nowrap;\n",
       "  caption-side: top;\n",
       "  text-align: left;\n",
       "  /* margin-left: 1em; */\n",
       "  margin: 0;\n",
       "  font-size: larger;\n",
       "}\n",
       "#h2o-table-1 .h2o-table thead {\n",
       "  white-space: nowrap; \n",
       "  position: sticky;\n",
       "  top: 0;\n",
       "  box-shadow: 0 -1px inset;\n",
       "}\n",
       "#h2o-table-1 .h2o-table tbody {\n",
       "  overflow: auto;\n",
       "}\n",
       "#h2o-table-1 .h2o-table th,\n",
       "#h2o-table-1 .h2o-table td {\n",
       "  text-align: right;\n",
       "  /* border: 1px solid; */\n",
       "}\n",
       "#h2o-table-1 .h2o-table tr:nth-child(even) {\n",
       "  /* background: #F5F5F5 */\n",
       "}\n",
       "\n",
       "</style>      \n",
       "<div id=\"h2o-table-1\" class=\"h2o-container\">\n",
       "  <table class=\"h2o-table\">\n",
       "    <caption></caption>\n",
       "    <thead></thead>\n",
       "    <tbody><tr><td>H2O_cluster_uptime:</td>\n",
       "<td>02 secs</td></tr>\n",
       "<tr><td>H2O_cluster_timezone:</td>\n",
       "<td>Europe/Madrid</td></tr>\n",
       "<tr><td>H2O_data_parsing_timezone:</td>\n",
       "<td>UTC</td></tr>\n",
       "<tr><td>H2O_cluster_version:</td>\n",
       "<td>3.46.0.1</td></tr>\n",
       "<tr><td>H2O_cluster_version_age:</td>\n",
       "<td>4 months and 29 days</td></tr>\n",
       "<tr><td>H2O_cluster_name:</td>\n",
       "<td>H2O_from_python_markel_zt09fg</td></tr>\n",
       "<tr><td>H2O_cluster_total_nodes:</td>\n",
       "<td>1</td></tr>\n",
       "<tr><td>H2O_cluster_free_memory:</td>\n",
       "<td>3.857 Gb</td></tr>\n",
       "<tr><td>H2O_cluster_total_cores:</td>\n",
       "<td>8</td></tr>\n",
       "<tr><td>H2O_cluster_allowed_cores:</td>\n",
       "<td>8</td></tr>\n",
       "<tr><td>H2O_cluster_status:</td>\n",
       "<td>locked, healthy</td></tr>\n",
       "<tr><td>H2O_connection_url:</td>\n",
       "<td>http://127.0.0.1:54321</td></tr>\n",
       "<tr><td>H2O_connection_proxy:</td>\n",
       "<td>{\"http\": null, \"https\": null}</td></tr>\n",
       "<tr><td>H2O_internal_security:</td>\n",
       "<td>False</td></tr>\n",
       "<tr><td>Python_version:</td>\n",
       "<td>3.10.12 final</td></tr></tbody>\n",
       "  </table>\n",
       "</div>\n"
      ],
      "text/plain": [
       "--------------------------  -----------------------------\n",
       "H2O_cluster_uptime:         02 secs\n",
       "H2O_cluster_timezone:       Europe/Madrid\n",
       "H2O_data_parsing_timezone:  UTC\n",
       "H2O_cluster_version:        3.46.0.1\n",
       "H2O_cluster_version_age:    4 months and 29 days\n",
       "H2O_cluster_name:           H2O_from_python_markel_zt09fg\n",
       "H2O_cluster_total_nodes:    1\n",
       "H2O_cluster_free_memory:    3.857 Gb\n",
       "H2O_cluster_total_cores:    8\n",
       "H2O_cluster_allowed_cores:  8\n",
       "H2O_cluster_status:         locked, healthy\n",
       "H2O_connection_url:         http://127.0.0.1:54321\n",
       "H2O_connection_proxy:       {\"http\": null, \"https\": null}\n",
       "H2O_internal_security:      False\n",
       "Python_version:             3.10.12 final\n",
       "--------------------------  -----------------------------"
      ]
     },
     "metadata": {},
     "output_type": "display_data"
    }
   ],
   "source": [
    "h2o.init(min_mem_size='2G')"
   ]
  },
  {
   "cell_type": "markdown",
   "metadata": {},
   "source": [
    "## Training of the initial basic model"
   ]
  },
  {
   "cell_type": "code",
   "execution_count": 3,
   "metadata": {},
   "outputs": [],
   "source": [
    "def load_and_prepare_data(file_path):\n",
    "    df = pd.read_csv(file_path)\n",
    "    df.columns = df.columns.str.strip()\n",
    "    df['Label_Binary'] = df['Label'].apply(lambda x: 'BENIGN' if x == 'BENIGN' else 'ATTACK')\n",
    "    return h2o.H2OFrame(df)"
   ]
  },
  {
   "cell_type": "code",
   "execution_count": 4,
   "metadata": {},
   "outputs": [
    {
     "name": "stdout",
     "output_type": "stream",
     "text": [
      "Parse progress: |████████████████████████████████████████████████████████████████| (done) 100%\n",
      "Parse progress: |████████████████████████████████████████████████████████████████| (done) 100%\n"
     ]
    }
   ],
   "source": [
    "mon_tues_array = [\n",
    "    \"CICIDS2017/Monday-WorkingHours.pcap_ISCX.csv\",\n",
    "    \"CICIDS2017/Tuesday-WorkingHours.pcap_ISCX.csv\"\n",
    "]\n",
    "mon_tues_frames = [load_and_prepare_data(file) for file in mon_tues_array]\n",
    "mon_tues = mon_tues_frames[0].rbind(mon_tues_frames[1]) "
   ]
  },
  {
   "cell_type": "code",
   "execution_count": 22,
   "metadata": {},
   "outputs": [
    {
     "name": "stdout",
     "output_type": "stream",
     "text": [
      "Parse progress: |████████████████████████████████████████████████████████████████| (done) 100%\n"
     ]
    }
   ],
   "source": [
    "wed = load_and_prepare_data(\"CICIDS2017/Wednesday-workingHours.pcap_ISCX.csv\")\n"
   ]
  },
  {
   "cell_type": "code",
   "execution_count": 5,
   "metadata": {},
   "outputs": [],
   "source": [
    "# Lista de predictores y respuesta\n",
    "predictors = [\n",
    "    \"Destination Port\", \"Flow Duration\", \"Total Fwd Packets\", \"Total Backward Packets\",\n",
    "    \"Total Length of Fwd Packets\", \"Total Length of Bwd Packets\", \"Fwd Packet Length Max\",\n",
    "    \"Fwd Packet Length Min\", \"Fwd Packet Length Mean\", \"Fwd Packet Length Std\",\n",
    "    \"Bwd Packet Length Max\", \"Bwd Packet Length Min\", \"Bwd Packet Length Mean\",\n",
    "    \"Bwd Packet Length Std\", \"Flow Bytes/s\", \"Flow Packets/s\", \"Flow IAT Mean\",\n",
    "    \"Flow IAT Std\", \"Flow IAT Max\", \"Flow IAT Min\", \"Fwd IAT Total\", \"Fwd IAT Mean\",\n",
    "    \"Fwd IAT Std\", \"Fwd IAT Max\", \"Fwd IAT Min\", \"Bwd IAT Total\", \"Bwd IAT Mean\",\n",
    "    \"Bwd IAT Std\", \"Bwd IAT Max\", \"Bwd IAT Min\", \"Fwd PSH Flags\", \"Bwd PSH Flags\",\n",
    "    \"Fwd URG Flags\", \"Bwd URG Flags\", \"Fwd Header Length\", \"Bwd Header Length\",\n",
    "    \"Fwd Packets/s\", \"Bwd Packets/s\", \"Min Packet Length\", \"Max Packet Length\",\n",
    "    \"Packet Length Mean\", \"Packet Length Std\", \"Packet Length Variance\", \"FIN Flag Count\",\n",
    "    \"SYN Flag Count\", \"RST Flag Count\", \"PSH Flag Count\", \"ACK Flag Count\",\n",
    "    \"URG Flag Count\", \"CWE Flag Count\", \"ECE Flag Count\", \"Down/Up Ratio\",\n",
    "    \"Average Packet Size\", \"Avg Fwd Segment Size\", \"Avg Bwd Segment Size\",\n",
    "    \"Fwd Avg Bytes/Bulk\", \"Fwd Avg Packets/Bulk\", \"Fwd Avg Bulk Rate\",\n",
    "    \"Bwd Avg Bytes/Bulk\", \"Bwd Avg Packets/Bulk\", \"Bwd Avg Bulk Rate\",\n",
    "    \"Subflow Fwd Packets\", \"Subflow Fwd Bytes\", \"Subflow Bwd Packets\",\n",
    "    \"Subflow Bwd Bytes\", \"Init_Win_bytes_forward\", \"Init_Win_bytes_backward\",\n",
    "    \"act_data_pkt_fwd\", \"min_seg_size_forward\", \"Active Mean\", \"Active Std\",\n",
    "    \"Active Max\", \"Active Min\", \"Idle Mean\", \"Idle Std\", \"Idle Max\", \"Idle Min\"\n",
    "]\n",
    "response = \"Label\"\n",
    "response_binary = \"Label_Binary\""
   ]
  },
  {
   "cell_type": "code",
   "execution_count": 6,
   "metadata": {},
   "outputs": [],
   "source": [
    "def train_automl(train, valid=None, max_runtime_secs=60):\n",
    "    aml = H2OAutoML(max_runtime_secs=max_runtime_secs, seed=1234, verbosity=\"info\", nfolds=0, keep_cross_validation_predictions=False,\n",
    "                        )\n",
    "    aml.train(x=predictors, y=response, training_frame=train, validation_frame=valid)\n",
    "    return aml\n"
   ]
  },
  {
   "cell_type": "code",
   "execution_count": 7,
   "metadata": {},
   "outputs": [],
   "source": [
    "def train_binary(train, valid=None, max_runtime_secs=60, checkpoint_model=None):\n",
    "    #TODO:checkpoint_model logic\n",
    "    aml = H2OAutoML(max_runtime_secs=max_runtime_secs, seed=1234, verbosity=\"info\", nfolds=0, keep_cross_validation_predictions=False,\n",
    "                        include_algos=['DeepLearning', 'DRF'])\n",
    "    aml.train(x=predictors, y=response_binary, training_frame=train, validation_frame=valid)\n",
    "    return aml"
   ]
  },
  {
   "cell_type": "code",
   "execution_count": 30,
   "metadata": {},
   "outputs": [],
   "source": [
    "def model_metrics_evaluation(model_predictions, ground_truth):\n",
    "    accuracy = accuracy_score(ground_truth.as_data_frame(), model_predictions.as_data_frame())\n",
    "    f1 = f1_score(ground_truth.as_data_frame(), model_predictions.as_data_frame(), pos_label='ATTACK')\n",
    "    recall = recall_score(ground_truth.as_data_frame(), model_predictions.as_data_frame(), pos_label='ATTACK')\n",
    "    precision = precision_score(ground_truth.as_data_frame(), model_predictions.as_data_frame(), pos_label='ATTACK')\n",
    "    confusion = confusion_matrix(ground_truth.as_data_frame(), model_predictions.as_data_frame(), labels=['BENIGN', 'ATTACK'])\n",
    "    return accuracy, f1, recall, precision, confusion"
   ]
  },
  {
   "cell_type": "markdown",
   "metadata": {},
   "source": [
    "### Pipeline"
   ]
  },
  {
   "cell_type": "code",
   "execution_count": 8,
   "metadata": {},
   "outputs": [
    {
     "name": "stdout",
     "output_type": "stream",
     "text": [
      "AutoML progress: |\n",
      "10:35:10.689: Project: AutoML_1_20240812_103510\n",
      "10:35:10.690: Cross-validation disabled by user: no fold column nor nfolds > 1.\n",
      "10:35:11.24: Setting stopping tolerance adaptively based on the training frame: 0.00101231013475982\n",
      "10:35:11.25: Build control seed: 1234\n",
      "10:35:11.34: Since cross-validation is disabled, and validation frame(s) were not provided, automatically split the training data into training, validation frame(s) in the ratio 90/10/0.\n",
      "10:35:13.371: training frame: Frame key: AutoML_1_20240812_103510_training_py_1_sid_8211    cols: 80    rows: 878321  chunks: 85    size: 237205431  checksum: -812720299642510376\n",
      "10:35:13.400: validation frame: Frame key: AutoML_1_20240812_103510_validation_py_1_sid_8211    cols: 80    rows: 97506  chunks: 85    size: 24051022  checksum: 3475359607006912728\n",
      "10:35:13.401: leaderboard frame: Frame key: AutoML_1_20240812_103510_validation_py_1_sid_8211    cols: 80    rows: 97506  chunks: 85    size: 24051022  checksum: 3475359607006912728\n",
      "10:35:13.401: blending frame: NULL\n",
      "10:35:13.401: response column: Label_Binary\n",
      "10:35:13.401: fold column: null\n",
      "10:35:13.401: weights column: null\n",
      "10:35:13.424: Loading execution steps: [{XGBoost : [def_2 (1g, 10w), def_1 (2g, 10w), def_3 (3g, 10w), grid_1 (4g, 90w), lr_search (6g, 30w)]}, {GLM : [def_1 (1g, 10w)]}, {DRF : [def_1 (2g, 10w), XRT (3g, 10w)]}, {GBM : [def_5 (1g, 10w), def_2 (2g, 10w), def_3 (2g, 10w), def_4 (2g, 10w), def_1 (3g, 10w), grid_1 (4g, 60w), lr_annealing (6g, 10w)]}, {DeepLearning : [def_1 (3g, 10w), grid_1 (4g, 30w), grid_2 (5g, 30w), grid_3 (5g, 30w)]}, {completion : [resume_best_grids (10g, 60w)]}, {StackedEnsemble : [best_of_family_1 (1g, 5w), best_of_family_2 (2g, 5w), best_of_family_3 (3g, 5w), best_of_family_4 (4g, 5w), best_of_family_5 (5g, 5w), all_2 (2g, 10w), all_3 (3g, 10w), all_4 (4g, 10w), all_5 (5g, 10w), monotonic (6g, 10w), best_of_family_gbm (6g, 10w), all_gbm (7g, 10w), best_of_family_xglm (8g, 10w), all_xglm (8g, 10w), best_of_family (10g, 10w), best_N (10g, 10w)]}]\n",
      "10:35:13.457: Disabling Algo: StackedEnsemble as requested by the user.\n",
      "10:35:13.457: Disabling Algo: GBM as requested by the user.\n",
      "10:35:13.457: Disabling Algo: XGBoost as requested by the user.\n",
      "10:35:13.457: Disabling Algo: GLM as requested by the user.\n",
      "10:35:13.458: AutoML job created: 2024.08.12 10:35:10.639\n",
      "10:35:13.459: AutoML build started: 2024.08.12 10:35:13.459\n",
      "10:35:13.461: Skipping StackedEnsemble 'best_of_family_1' due to the exclude_algos option or it is already trained.\n",
      "10:35:13.541: AutoML: starting DRF_1_AutoML_1_20240812_103510 model training\n",
      "10:35:13.590: _train param, Dropping bad and constant columns: [Bwd Avg Packets/Bulk, Fwd URG Flags, Fwd Avg Bulk Rate, Bwd PSH Flags, Bwd URG Flags, CWE Flag Count, Bwd Avg Bytes/Bulk, Fwd Avg Bytes/Bulk, Fwd Avg Packets/Bulk, Bwd Avg Bulk Rate]\n",
      "\n",
      "███████████████████████████████████████████\n",
      "10:35:55.62: New leader: DRF_1_AutoML_1_20240812_103510, auc: 1.0\n",
      "10:35:55.63: Skipping StackedEnsemble 'best_of_family_2' due to the exclude_algos option or it is already trained.\n",
      "10:35:55.64: Skipping StackedEnsemble 'all_2' due to the exclude_algos option or it is already trained.\n",
      "10:35:55.72: AutoML: starting XRT_1_AutoML_1_20240812_103510 model training\n",
      "10:35:55.81: _train param, Dropping bad and constant columns: [Bwd Avg Packets/Bulk, Fwd URG Flags, Fwd Avg Bulk Rate, Bwd PSH Flags, Bwd URG Flags, CWE Flag Count, Bwd Avg Bytes/Bulk, Fwd Avg Bytes/Bulk, Fwd Avg Packets/Bulk, Bwd Avg Bulk Rate]\n",
      "\n",
      "███████████\n",
      "10:36:05.100: AutoML: starting DeepLearning_1_AutoML_1_20240812_103510 model training\n",
      "10:36:05.108: _train param, Dropping bad and constant columns: [Bwd Avg Packets/Bulk, Fwd URG Flags, Fwd Avg Bulk Rate, Bwd PSH Flags, Bwd URG Flags, CWE Flag Count, Bwd Avg Bytes/Bulk, Fwd Avg Bytes/Bulk, Fwd Avg Packets/Bulk, Bwd Avg Bulk Rate]\n",
      "\n",
      "█████████| (done) 100%\n",
      "\n",
      "10:36:14.155: Actual modeling steps: [{DRF : [def_1 (2g, 10w), XRT (3g, 10w)]}, {DeepLearning : [def_1 (3g, 10w)]}]\n",
      "10:36:14.155: AutoML build stopped: 2024.08.12 10:36:14.155\n",
      "10:36:14.156: AutoML build done: built 3 models\n",
      "10:36:14.156: AutoML duration:  1 min  0.696 sec\n",
      "\n",
      "model_id                                      auc     logloss     aucpr    mean_per_class_error       rmse          mse\n",
      "DRF_1_AutoML_1_20240812_103510           1         0.0019683   1                    0            0.0144559  0.000208974\n",
      "XRT_1_AutoML_1_20240812_103510           1         0.00516612  0.999999             5.20134e-06  0.0356472  0.00127072\n",
      "DeepLearning_1_AutoML_1_20240812_103510  0.855256  0.103647    0.711683             0.151526     0.0727859  0.00529778\n",
      "[3 rows x 7 columns]\n",
      "\n"
     ]
    }
   ],
   "source": [
    "\n",
    "#Binary clasification\n",
    "aml = train_binary(mon_tues)\n",
    "print(aml.leaderboard)"
   ]
  },
  {
   "cell_type": "code",
   "execution_count": 32,
   "metadata": {},
   "outputs": [
    {
     "name": "stdout",
     "output_type": "stream",
     "text": [
      "drf prediction progress: |███████████████████████████████████████████████████████| (done) 100%\n"
     ]
    },
    {
     "name": "stderr",
     "output_type": "stream",
     "text": [
      "/home/markel/.local/lib/python3.10/site-packages/h2o/frame.py:1983: H2ODependencyWarning: Converting H2O frame to pandas dataframe using single-thread.  For faster conversion using multi-thread, install datatable (for Python 3.9 or lower), or polars and pyarrow (for Python 3.10 or above) and activate it using:\n",
      "\n",
      "with h2o.utils.threading.local_context(polars_enabled=True, datatable_enabled=True):\n",
      "    pandas_df = h2o_df.as_data_frame()\n",
      "\n",
      "  warnings.warn(\"Converting H2O frame to pandas dataframe using single-thread.  For faster conversion using\"\n",
      "/home/markel/.local/lib/python3.10/site-packages/h2o/frame.py:1983: H2ODependencyWarning: Converting H2O frame to pandas dataframe using single-thread.  For faster conversion using multi-thread, install datatable (for Python 3.9 or lower), or polars and pyarrow (for Python 3.10 or above) and activate it using:\n",
      "\n",
      "with h2o.utils.threading.local_context(polars_enabled=True, datatable_enabled=True):\n",
      "    pandas_df = h2o_df.as_data_frame()\n",
      "\n",
      "  warnings.warn(\"Converting H2O frame to pandas dataframe using single-thread.  For faster conversion using\"\n",
      "/home/markel/.local/lib/python3.10/site-packages/h2o/frame.py:1983: H2ODependencyWarning: Converting H2O frame to pandas dataframe using single-thread.  For faster conversion using multi-thread, install datatable (for Python 3.9 or lower), or polars and pyarrow (for Python 3.10 or above) and activate it using:\n",
      "\n",
      "with h2o.utils.threading.local_context(polars_enabled=True, datatable_enabled=True):\n",
      "    pandas_df = h2o_df.as_data_frame()\n",
      "\n",
      "  warnings.warn(\"Converting H2O frame to pandas dataframe using single-thread.  For faster conversion using\"\n",
      "/home/markel/.local/lib/python3.10/site-packages/h2o/frame.py:1983: H2ODependencyWarning: Converting H2O frame to pandas dataframe using single-thread.  For faster conversion using multi-thread, install datatable (for Python 3.9 or lower), or polars and pyarrow (for Python 3.10 or above) and activate it using:\n",
      "\n",
      "with h2o.utils.threading.local_context(polars_enabled=True, datatable_enabled=True):\n",
      "    pandas_df = h2o_df.as_data_frame()\n",
      "\n",
      "  warnings.warn(\"Converting H2O frame to pandas dataframe using single-thread.  For faster conversion using\"\n",
      "/home/markel/.local/lib/python3.10/site-packages/h2o/frame.py:1983: H2ODependencyWarning: Converting H2O frame to pandas dataframe using single-thread.  For faster conversion using multi-thread, install datatable (for Python 3.9 or lower), or polars and pyarrow (for Python 3.10 or above) and activate it using:\n",
      "\n",
      "with h2o.utils.threading.local_context(polars_enabled=True, datatable_enabled=True):\n",
      "    pandas_df = h2o_df.as_data_frame()\n",
      "\n",
      "  warnings.warn(\"Converting H2O frame to pandas dataframe using single-thread.  For faster conversion using\"\n",
      "/home/markel/.local/lib/python3.10/site-packages/h2o/frame.py:1983: H2ODependencyWarning: Converting H2O frame to pandas dataframe using single-thread.  For faster conversion using multi-thread, install datatable (for Python 3.9 or lower), or polars and pyarrow (for Python 3.10 or above) and activate it using:\n",
      "\n",
      "with h2o.utils.threading.local_context(polars_enabled=True, datatable_enabled=True):\n",
      "    pandas_df = h2o_df.as_data_frame()\n",
      "\n",
      "  warnings.warn(\"Converting H2O frame to pandas dataframe using single-thread.  For faster conversion using\"\n",
      "/home/markel/.local/lib/python3.10/site-packages/h2o/frame.py:1983: H2ODependencyWarning: Converting H2O frame to pandas dataframe using single-thread.  For faster conversion using multi-thread, install datatable (for Python 3.9 or lower), or polars and pyarrow (for Python 3.10 or above) and activate it using:\n",
      "\n",
      "with h2o.utils.threading.local_context(polars_enabled=True, datatable_enabled=True):\n",
      "    pandas_df = h2o_df.as_data_frame()\n",
      "\n",
      "  warnings.warn(\"Converting H2O frame to pandas dataframe using single-thread.  For faster conversion using\"\n",
      "/home/markel/.local/lib/python3.10/site-packages/h2o/frame.py:1983: H2ODependencyWarning: Converting H2O frame to pandas dataframe using single-thread.  For faster conversion using multi-thread, install datatable (for Python 3.9 or lower), or polars and pyarrow (for Python 3.10 or above) and activate it using:\n",
      "\n",
      "with h2o.utils.threading.local_context(polars_enabled=True, datatable_enabled=True):\n",
      "    pandas_df = h2o_df.as_data_frame()\n",
      "\n",
      "  warnings.warn(\"Converting H2O frame to pandas dataframe using single-thread.  For faster conversion using\"\n",
      "/home/markel/.local/lib/python3.10/site-packages/h2o/frame.py:1983: H2ODependencyWarning: Converting H2O frame to pandas dataframe using single-thread.  For faster conversion using multi-thread, install datatable (for Python 3.9 or lower), or polars and pyarrow (for Python 3.10 or above) and activate it using:\n",
      "\n",
      "with h2o.utils.threading.local_context(polars_enabled=True, datatable_enabled=True):\n",
      "    pandas_df = h2o_df.as_data_frame()\n",
      "\n",
      "  warnings.warn(\"Converting H2O frame to pandas dataframe using single-thread.  For faster conversion using\"\n",
      "/home/markel/.local/lib/python3.10/site-packages/h2o/frame.py:1983: H2ODependencyWarning: Converting H2O frame to pandas dataframe using single-thread.  For faster conversion using multi-thread, install datatable (for Python 3.9 or lower), or polars and pyarrow (for Python 3.10 or above) and activate it using:\n",
      "\n",
      "with h2o.utils.threading.local_context(polars_enabled=True, datatable_enabled=True):\n",
      "    pandas_df = h2o_df.as_data_frame()\n",
      "\n",
      "  warnings.warn(\"Converting H2O frame to pandas dataframe using single-thread.  For faster conversion using\"\n"
     ]
    },
    {
     "name": "stdout",
     "output_type": "stream",
     "text": [
      "Accuracy: 0.6359103396405097\n",
      "F1: 0.003705400878551338\n",
      "Recall: 0.0018561613475177306\n",
      "Precision: 0.9936440677966102\n",
      "Confusion Matrix:\n",
      "[[440028      3]\n",
      " [252203    469]]\n"
     ]
    }
   ],
   "source": [
    "model = aml.leader\n",
    "\n",
    "predictions_wed = model.predict(wed)\n",
    "accuracy, f1, recall, precision, confusion = model_metrics_evaluation(predictions_wed['predict'], wed['Label_Binary'])\n",
    "print(f\"Accuracy: {accuracy}\")\n",
    "print(f\"F1: {f1}\")\n",
    "print(f\"Recall: {recall}\")\n",
    "print(f\"Precision: {precision}\")\n",
    "print(\"Confusion Matrix:\")\n",
    "print(confusion)\n"
   ]
  },
  {
   "cell_type": "markdown",
   "metadata": {},
   "source": [
    "## Validation Proccess"
   ]
  },
  {
   "cell_type": "code",
   "execution_count": 7,
   "metadata": {},
   "outputs": [],
   "source": [
    "# Decidir si reentrenar\n",
    "if accuracy < 0.95:\n",
    "    print(f\"Retraining model for Wednesday data\")\n",
    "\n",
    "    # Agregar datos del día al conjunto de entrenamiento\n",
    "    train = train.rbind(valid)\n",
    "\n",
    "    # Reentrenar modelo\n",
    "    retrainable_model = h2o.upload_model(\"models/best_model\")\n",
    "\n",
    "    # Comprobar el tipo de modelo y reentrenar\n",
    "    if retrainable_model.algo == \"DeepLearning\":\n",
    "        dl_checkpoint2 = H2ODeepLearningEstimator(\n",
    "            model_id=\"best_model_DL_\" + str(retrainable_model.params['epochs']['actual'] + 1),\n",
    "            checkpoint=retrainable_model.model_id + \"_wednesday\",\n",
    "            epochs=int(retrainable_model.params['epochs']['actual']) + 5,\n",
    "            seed=retrainable_model.params['seed']['actual']\n",
    "        )\n",
    "    elif retrainable_model.algo == \"drf\":\n",
    "        dl_checkpoint2 = H2ORandomForestEstimator(\n",
    "            model_id=\"best_model_forest_\" + str(retrainable_model.params['ntrees']['actual'] + 1),\n",
    "            checkpoint=retrainable_model.model_id + \"_wednesday\",\n",
    "            ntrees=int(retrainable_model.params['ntrees']['actual']) + 5,\n",
    "            seed=retrainable_model.params['seed']['actual']\n",
    "        )\n",
    "\n",
    "    # Entrenar con el conjunto de entrenamiento completo\n",
    "    dl_checkpoint2.train(x=predictors, y=response, training_frame=train)\n",
    "\n",
    "    # Guardar nuevo mejor modelo\n",
    "    best_model_path = h2o.download_model(model=dl_checkpoint2, path=\"models/\")\n"
   ]
  },
  {
   "cell_type": "code",
   "execution_count": 5,
   "metadata": {},
   "outputs": [
    {
     "name": "stdout",
     "output_type": "stream",
     "text": [
      "H2O session _sid_bb46 closed.\n"
     ]
    }
   ],
   "source": [
    "h2o.cluster().shutdown(prompt=False)"
   ]
  }
 ],
 "metadata": {
  "kernelspec": {
   "display_name": "venv",
   "language": "python",
   "name": "python3"
  },
  "language_info": {
   "codemirror_mode": {
    "name": "ipython",
    "version": 3
   },
   "file_extension": ".py",
   "mimetype": "text/x-python",
   "name": "python",
   "nbconvert_exporter": "python",
   "pygments_lexer": "ipython3",
   "version": "3.10.12"
  }
 },
 "nbformat": 4,
 "nbformat_minor": 2
}
